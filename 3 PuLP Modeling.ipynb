{
 "metadata": {
  "name": ""
 },
 "nbformat": 3,
 "nbformat_minor": 0,
 "worksheets": [
  {
   "cells": [
    {
     "cell_type": "code",
     "collapsed": false,
     "input": [
      "from pulp import *\n",
      "#DATA\n",
      "nutrition = [[35, 0.5, 0.5] , [60, 300, 10], [30, 20, 10]]\n",
      "requirement = [0.5, 15, 4]\n",
      "cost=[.75, .5, .15]\n",
      "\n",
      "# declare your variables\n",
      "vlist = range(0,3)\n",
      "x = LpVariable.dicts(\"x\", vlist, lowBound=0)\n",
      "\n",
      "# defines the problem\n",
      "prob = LpProblem(\"problem\", LpMinimize)\n",
      "\n",
      "# define the objective function\n",
      "prob += lpSum(cost[i]*x[i] for i in vlist)\n",
      "\n",
      "# defines the constraints\n",
      "for i in vlist:\n",
      "    prob += lpSum(nutrition[i][j]*x[j] for j in vlist)>= requirement[i]\n",
      "\n",
      "prob.writeLP(\"filename.lp\", mip=1)"
     ],
     "language": "python",
     "metadata": {},
     "outputs": [],
     "prompt_number": 6
    },
    {
     "cell_type": "code",
     "collapsed": false,
     "input": [
      "!cat filename.lp"
     ],
     "language": "python",
     "metadata": {},
     "outputs": [
      {
       "output_type": "stream",
       "stream": "stdout",
       "text": [
        "\\* problem *\\\r\n",
        "Minimize\r\n",
        "OBJ: 0.75 x_0 + 0.5 x_1 + 0.15 x_2\r\n",
        "Subject To\r\n",
        "_C1: 35 x_0 + 0.5 x_1 + 0.5 x_2 >= 0.5\r\n",
        "_C2: 60 x_0 + 300 x_1 + 10 x_2 >= 15\r\n",
        "_C3: 30 x_0 + 20 x_1 + 10 x_2 >= 4\r\n",
        "End\r\n"
       ]
      }
     ],
     "prompt_number": 8
    },
    {
     "cell_type": "code",
     "collapsed": false,
     "input": [
      "#GLPK(path='/opt/local/bin/glpsol').solve(prob)\n",
      "\n",
      "# solve the problem\n",
      "status = prob.solve(GLPK(msg=0))\n",
      "print LpStatus[status]\n",
      "print \"Price: $%.2f\"%(value(prob.objective))\n",
      "print \"Carrot(g) = %.2f\"%(value(x[0])*1000)\n",
      "print \"White Cabbage(g) = %.2f\"%(value(x[1])*1000)\n",
      "print \"Cucumber(g) = %.2f\"%(value(x[2])*1000)"
     ],
     "language": "python",
     "metadata": {},
     "outputs": []
    }
   ],
   "metadata": {}
  }
 ]
}