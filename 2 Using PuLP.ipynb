{
 "metadata": {
  "name": ""
 },
 "nbformat": 3,
 "nbformat_minor": 0,
 "worksheets": [
  {
   "cells": [
    {
     "cell_type": "markdown",
     "metadata": {},
     "source": [
      "Linear Programming using PuLP\n",
      "==============================\n",
      "\n",
      "Installation\n",
      "------------\n",
      "\n",
      "* Install PuLP \n",
      "```bash\n",
      "sudo pip install pulp\n",
      "```\n",
      "For more information: https://pythonhosted.org/PuLP/main/installing_pulp_at_home.html\n",
      "\n",
      "* Install GLPK Solver\n",
      "```bash\n",
      "sudo apt-get install glpk\n",
      "```\n",
      "For more information: https://www.gnu.org/software/glpk/#TOCdownloading\n"
     ]
    },
    {
     "cell_type": "code",
     "collapsed": false,
     "input": [
      "import pulp\n",
      "pulp.pulpTestAll()"
     ],
     "language": "python",
     "metadata": {},
     "outputs": [
      {
       "output_type": "stream",
       "stream": "stdout",
       "text": [
        "\t Testing zero subtraction\n",
        "\t Testing continuous LP solution\n",
        "\t Testing maximize continuous LP solution"
       ]
      },
      {
       "output_type": "stream",
       "stream": "stdout",
       "text": [
        "\n",
        "\t Testing unbounded continuous LP solution\n",
        "\t Testing Long Names"
       ]
      },
      {
       "output_type": "stream",
       "stream": "stdout",
       "text": [
        "\n",
        "\t Testing repeated Names\n",
        "\t Testing zero constraint\n",
        "\t Testing zero objective"
       ]
      },
      {
       "output_type": "stream",
       "stream": "stdout",
       "text": [
        "\n",
        "\t Testing LpVariable (not LpAffineExpression) objective\n",
        "\t Testing MIP solution"
       ]
      },
      {
       "output_type": "stream",
       "stream": "stdout",
       "text": [
        "\n",
        "\t Testing MIP relaxation"
       ]
      },
      {
       "output_type": "stream",
       "stream": "stdout",
       "text": [
        "\n",
        "\t Testing feasibility problem (no objective)\n",
        "\t Testing an infeasible problem"
       ]
      },
      {
       "output_type": "stream",
       "stream": "stdout",
       "text": [
        "\n",
        "\t Testing an integer infeasible problem\n",
        "\t Testing column based modelling\n",
        "\t Testing dual variables and slacks reporting"
       ]
      },
      {
       "output_type": "stream",
       "stream": "stdout",
       "text": [
        "\n",
        "\t Testing fractional constraints"
       ]
      },
      {
       "output_type": "stream",
       "stream": "stdout",
       "text": [
        "\n",
        "\t Testing elastic constraints (no change)\n",
        "\t Testing elastic constraints (freebound)"
       ]
      },
      {
       "output_type": "stream",
       "stream": "stdout",
       "text": [
        "\n",
        "\t Testing elastic constraints (penalty unchanged)\n",
        "\t Testing elastic constraints (penalty unbounded)"
       ]
      },
      {
       "output_type": "stream",
       "stream": "stdout",
       "text": [
        "\n",
        "* Solver pulp.solvers.PULP_CBC_CMD passed.\n",
        "Solver pulp.solvers.CPLEX_DLL unavailable\n",
        "Solver pulp.solvers.CPLEX_CMD unavailable\n",
        "Solver pulp.solvers.CPLEX_PY unavailable\n",
        "Solver pulp.solvers.COIN_CMD unavailable\n",
        "Solver pulp.solvers.COINMP_DLL unavailable\n",
        "\t Testing zero subtraction\n",
        "\t Testing continuous LP solution\n",
        "\t Testing maximize continuous LP solution"
       ]
      },
      {
       "output_type": "stream",
       "stream": "stdout",
       "text": [
        "\n",
        "\t Testing unbounded continuous LP solution\n",
        "\t Testing Long Names"
       ]
      },
      {
       "output_type": "stream",
       "stream": "stdout",
       "text": [
        "\n",
        "\t Testing repeated Names\n",
        "\t Testing zero constraint\n",
        "\t Testing zero objective\n",
        "\t Testing LpVariable (not LpAffineExpression) objective"
       ]
      },
      {
       "output_type": "stream",
       "stream": "stdout",
       "text": [
        "\n",
        "\t Testing MIP solution\n",
        "\t Testing MIP relaxation\n",
        "\t Testing feasibility problem (no objective)"
       ]
      },
      {
       "output_type": "stream",
       "stream": "stdout",
       "text": [
        "\n",
        "\t Testing an infeasible problem\n",
        "\t Testing an integer infeasible problem\n",
        "\t Testing column based modelling"
       ]
      },
      {
       "output_type": "stream",
       "stream": "stdout",
       "text": [
        "\n",
        "\t Testing fractional constraints"
       ]
      },
      {
       "output_type": "stream",
       "stream": "stdout",
       "text": [
        "\n",
        "\t Testing elastic constraints (no change)\n",
        "\t Testing elastic constraints (freebound)"
       ]
      },
      {
       "output_type": "stream",
       "stream": "stdout",
       "text": [
        "\n",
        "\t Testing elastic constraints (penalty unchanged)\n",
        "\t Testing elastic constraints (penalty unbounded)"
       ]
      },
      {
       "output_type": "stream",
       "stream": "stdout",
       "text": [
        "\n",
        "* Solver pulp.solvers.GLPK_CMD passed.\n",
        "Solver pulp.solvers.XPRESS unavailable\n",
        "Solver pulp.solvers.GUROBI unavailable\n",
        "Solver pulp.solvers.GUROBI_CMD unavailable\n",
        "Solver pulp.solvers.PYGLPK unavailable\n",
        "Solver pulp.solvers.YAPOSIB unavailable\n"
       ]
      }
     ],
     "prompt_number": 1
    },
    {
     "cell_type": "code",
     "collapsed": false,
     "input": [
      "from pulp import *\n",
      "# declare your variables\n",
      "x1 = LpVariable(\"x1\", lowBound=0)   \n",
      "x2 = LpVariable(\"x2\", lowBound=0) \n",
      "x3 = LpVariable(\"x3\", lowBound=0) \n",
      "\n",
      "# defines the problem\n",
      "prob = LpProblem(\"problem\", LpMinimize)\n",
      "\n",
      "# define the objective function\n",
      "prob += 0.75*x1+ 0.5*x2 +0.15*x3\n",
      "\n",
      "# defines the constraints\n",
      "prob += 35*x1 + 0.5*x2 + 0.5*x3 >= 0.5\n",
      "prob += 60*x1 + 300*x2 + 10*x3  >= 15\n",
      "prob += 30*x1 + 20*x2  + 10*x3  >= 4\n",
      "\n",
      "#prob.writeLP(\"filename.lp\")\n",
      "#GLPK(path='/opt/local/bin/glpsol').solve(prob)\n",
      "\n",
      "# solve the problem\n",
      "status = prob.solve(GLPK(msg=0))\n",
      "print LpStatus[status]\n",
      "print \"Price: $%.2f\"%(value(prob.objective))\n",
      "print \"Carrot(g) = %.2f\"%(value(x1)*1000)\n",
      "print \"White Cabbage(g) = %.2f\"%(value(x2)*1000)\n",
      "print \"Cucumber(g) = %.2f\"%(value(x3)*1000)"
     ],
     "language": "python",
     "metadata": {},
     "outputs": [
      {
       "output_type": "stream",
       "stream": "stdout",
       "text": [
        "Optimal\n",
        "Price: $0.07\n",
        "Carrot(g) = 9.53\n",
        "White Cabbage(g) = 38.27\n",
        "Cucumber(g) = 294.89\n"
       ]
      }
     ],
     "prompt_number": 16
    },
    {
     "cell_type": "code",
     "collapsed": false,
     "input": [],
     "language": "python",
     "metadata": {},
     "outputs": []
    }
   ],
   "metadata": {}
  }
 ]
}