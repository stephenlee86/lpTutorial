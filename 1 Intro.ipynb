{
 "metadata": {
  "name": ""
 },
 "nbformat": 3,
 "nbformat_minor": 0,
 "worksheets": [
  {
   "cells": [
    {
     "cell_type": "markdown",
     "metadata": {},
     "source": [
      "Introduction to Linear Programming\n",
      "==================================\n"
     ]
    },
    {
     "cell_type": "markdown",
     "metadata": {},
     "source": [
      "\n",
      "Linear program maximizes a given linear function over the set of vectors subject to linear equality and inequality constraints. \n",
      "\n",
      "Each linear program can be transformed into:\n",
      "\n",
      "$${\\begin{aligned}&{\\text{maximize}}&&\\mathbf {c} ^{\\mathrm {T} }\\mathbf {x} \\\\&{\\text{subject to}}&&A\\mathbf {x} \\leq \\mathbf {b} \\\\&{}&&\\end{aligned}}$$\n",
      "\n",
      "Example\n",
      "-------\n",
      "\n",
      "Nutrition requirement: \n",
      "Each dish must contain the prescribed amount of vitamins and fiber.\n",
      "Addition of a vegetable in the dish adds some nutrition. What is the minimum \n",
      "price required to meet all the nutritional requirements?\n",
      "\n",
      "\n",
      "[source: Understanding and Using Linear Programming; Jiri Matousek and Bernd Gartner]\n",
      "\n",
      "<img src=\"files/files/food_table.png\" width=600/>\n",
      "</br>\n",
      "\n",
      "<img src=\"files/files/food_lp.png\" width=350/></br>\n",
      "\n",
      "$$x_1, x_2 \\text{ and } x_3 \\text{  represent the amount of vegetable and the objective function is the price of the combination. } $$\n"
     ]
    },
    {
     "cell_type": "code",
     "collapsed": false,
     "input": [],
     "language": "python",
     "metadata": {},
     "outputs": []
    }
   ],
   "metadata": {}
  }
 ]
}