{
 "metadata": {
  "name": ""
 },
 "nbformat": 3,
 "nbformat_minor": 0,
 "worksheets": [
  {
   "cells": [
    {
     "cell_type": "code",
     "collapsed": false,
     "input": [
      "from cvxopt import matrix, solvers\n",
      "from cvxopt.modeling import op, dot, variable\n",
      "x = variable(3)\n",
      "nutrition = matrix([[35, 0.5, 0.5] , [60, 300, 10], [30, 20, 10]]).T\n",
      "requirement = matrix([0.5, 15, 4])\n",
      "cost=matrix([[.75, .5, .15]]).T\n",
      "zer = matrix([0, 0, .0])\n",
      "c1 = (nutrition*x>= requirement)\n",
      "c2 = (x >= zer)"
     ],
     "language": "python",
     "metadata": {},
     "outputs": [],
     "prompt_number": 29
    },
    {
     "cell_type": "code",
     "collapsed": false,
     "input": [
      "lp = op(cost*x, [c1,c2])\n",
      "lp.tofile('cvx.lp')"
     ],
     "language": "python",
     "metadata": {},
     "outputs": [],
     "prompt_number": 30
    },
    {
     "cell_type": "code",
     "collapsed": false,
     "input": [
      "!cat cvx.lp"
     ],
     "language": "python",
     "metadata": {},
     "outputs": [
      {
       "output_type": "stream",
       "stream": "stdout",
       "text": [
        "NAME\r\n",
        "ROWS\r\n",
        " N      cost\r\n",
        " L       0_0\r\n",
        " L       0_1\r\n",
        " L       0_2\r\n",
        " L       1_0\r\n",
        " L       1_1\r\n",
        " L       1_2\r\n",
        "COLUMNS\r\n",
        "         0_0      cost   7.50000E-01\r\n",
        "         0_0       0_0  -3.50000E+01\r\n",
        "         0_0       0_1  -6.00000E+01\r\n",
        "         0_0       0_2  -3.00000E+01\r\n",
        "         0_0       1_0  -1.00000E+00\r\n",
        "         2_1      cost   5.00000E-01\r\n",
        "         2_1       0_0  -5.00000E-01\r\n",
        "         2_1       0_1  -3.00000E+02\r\n",
        "         2_1       0_2  -2.00000E+01\r\n",
        "         2_1       1_1  -1.00000E+00\r\n",
        "         2_2      cost   1.50000E-01\r\n",
        "         2_2       0_0  -5.00000E-01\r\n",
        "         2_2       0_1  -1.00000E+01\r\n",
        "         2_2       0_2  -1.00000E+01\r\n",
        "         2_2       1_2  -1.00000E+00\r\n",
        "RHS\r\n",
        "                   0_0  -5.00000E-01\r\n",
        "                   0_1  -1.50000E+01\r\n",
        "                   0_2  -4.00000E+00\r\n",
        "                   1_0  -0.00000E+00\r\n",
        "                   1_1  -0.00000E+00\r\n",
        "                   1_2  -0.00000E+00\r\n",
        "RANGES\r\n",
        "BOUNDS\r\n",
        " FR                0_0\r\n",
        " FR                0_1\r\n",
        " FR                0_2\r\n",
        "ENDATA\r\n"
       ]
      }
     ],
     "prompt_number": 31
    },
    {
     "cell_type": "code",
     "collapsed": false,
     "input": [
      "lp.solve()"
     ],
     "language": "python",
     "metadata": {},
     "outputs": [
      {
       "output_type": "stream",
       "stream": "stdout",
       "text": [
        "     pcost       dcost       gap    pres   dres   k/t\n",
        " 0:  7.0266e-02  1.9572e+01  7e+00  2e-01  3e+02  1e+00\n",
        " 1:  8.4166e-02  2.2329e+00  6e-01  2e-02  4e+01  7e-03\n",
        " 2:  7.5617e-02  3.0064e-01  2e-02  2e-03  4e+00  5e-03\n",
        " 3:  7.0951e-02  9.0926e-02  1e-03  2e-04  4e-01  4e-04\n",
        " 4:  7.0551e-02  7.1325e-02  5e-05  7e-06  1e-02  9e-06\n",
        " 5:  7.0511e-02  7.0519e-02  5e-07  7e-08  1e-04  9e-08\n",
        " 6:  7.0511e-02  7.0511e-02  5e-09  7e-10  1e-06  9e-10\n",
        " 7:  7.0511e-02  7.0511e-02  5e-11  7e-12  1e-08  9e-12\n",
        "Optimal solution found.\n"
       ]
      }
     ],
     "prompt_number": 32
    },
    {
     "cell_type": "code",
     "collapsed": false,
     "input": [
      "print \"Price: $%.2f\"%(lp.objective.value()[0])\n",
      "print \"Carrot(g) = %.2f\"%(x.value[0]*1000)\n",
      "print \"White Cabbage(g) = %.2f\"%(x.value[1]*1000)\n",
      "print \"Cucumber(g) = %.2f\"%(x.value[2]*1000)"
     ],
     "language": "python",
     "metadata": {},
     "outputs": [
      {
       "output_type": "stream",
       "stream": "stdout",
       "text": [
        "Price: $0.07\n",
        "Carrot(g) = 9.53\n",
        "White Cabbage(g) = 38.27\n",
        "Cucumber(g) = 294.89\n"
       ]
      }
     ],
     "prompt_number": 33
    },
    {
     "cell_type": "code",
     "collapsed": false,
     "input": [],
     "language": "python",
     "metadata": {},
     "outputs": [],
     "prompt_number": 34
    },
    {
     "cell_type": "code",
     "collapsed": false,
     "input": [],
     "language": "python",
     "metadata": {},
     "outputs": [],
     "prompt_number": 34
    },
    {
     "cell_type": "code",
     "collapsed": false,
     "input": [],
     "language": "python",
     "metadata": {},
     "outputs": []
    }
   ],
   "metadata": {}
  }
 ]
}