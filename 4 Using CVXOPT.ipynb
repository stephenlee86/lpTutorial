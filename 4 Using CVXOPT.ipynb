{
 "metadata": {
  "name": ""
 },
 "nbformat": 3,
 "nbformat_minor": 0,
 "worksheets": [
  {
   "cells": [
    {
     "cell_type": "code",
     "collapsed": false,
     "input": [
      "from cvxopt import matrix, solvers\n",
      "from cvxopt.modeling import op, dot, variable\n",
      "x1 = variable(1, 'x1')\n",
      "x2 = variable(1, 'x2')\n",
      "x3 = variable(1, 'x3')\n",
      "\n",
      "c1 = (35*x1+0.5*x2+0.5*x3 >= 0.5)\n",
      "c2 = (60*x1+300*x2+10*x3 >= 15)\n",
      "c3 = (30*x1+20*x2+10*x3 >= 4)\n",
      "c4 = (x1>=0)\n",
      "c5 = (x2>=0)\n",
      "c6 = (x3>=0)"
     ],
     "language": "python",
     "metadata": {},
     "outputs": [],
     "prompt_number": 68
    },
    {
     "cell_type": "code",
     "collapsed": false,
     "input": [
      "lp = op(0.75*x1+0.5*x2+0.15*x3, [c1,c2,c3,c4,c5,c6])\n",
      "lp.tofile('cvx.lp')"
     ],
     "language": "python",
     "metadata": {},
     "outputs": [],
     "prompt_number": 69
    },
    {
     "cell_type": "code",
     "collapsed": false,
     "input": [
      "!cat cvx.lp"
     ],
     "language": "python",
     "metadata": {},
     "outputs": [
      {
       "output_type": "stream",
       "stream": "stdout",
       "text": [
        "NAME\r\n",
        "ROWS\r\n",
        " N      cost\r\n",
        " L       0_0\r\n",
        " L       1_0\r\n",
        " L       2_0\r\n",
        " L       3_0\r\n",
        " L       4_0\r\n",
        " L       5_0\r\n",
        "COLUMNS\r\n",
        "        x3_0      cost   1.50000E-01\r\n",
        "        x3_0       0_0  -5.00000E-01\r\n",
        "        x3_0       1_0  -1.00000E+01\r\n",
        "        x3_0       2_0  -1.00000E+01\r\n",
        "        x3_0       5_0  -1.00000E+00\r\n",
        "        x1_0      cost   7.50000E-01\r\n",
        "        x1_0       0_0  -3.50000E+01\r\n",
        "        x1_0       1_0  -6.00000E+01\r\n",
        "        x1_0       2_0  -3.00000E+01\r\n",
        "        x1_0       3_0  -1.00000E+00\r\n",
        "        x2_0      cost   5.00000E-01\r\n",
        "        x2_0       0_0  -5.00000E-01\r\n",
        "        x2_0       1_0  -3.00000E+02\r\n",
        "        x2_0       2_0  -2.00000E+01\r\n",
        "        x2_0       4_0  -1.00000E+00\r\n",
        "RHS\r\n",
        "                   0_0  -5.00000E-01\r\n",
        "                   1_0  -1.50000E+01\r\n",
        "                   2_0  -4.00000E+00\r\n",
        "                   3_0  -0.00000E+00\r\n",
        "                   4_0  -0.00000E+00\r\n",
        "                   5_0  -0.00000E+00\r\n",
        "RANGES\r\n",
        "BOUNDS\r\n",
        " FR               x3_0\r\n",
        " FR               x1_0\r\n",
        " FR               x2_0\r\n",
        "ENDATA\r\n"
       ]
      }
     ],
     "prompt_number": 70
    },
    {
     "cell_type": "code",
     "collapsed": false,
     "input": [
      "lp.solve()"
     ],
     "language": "python",
     "metadata": {},
     "outputs": [
      {
       "output_type": "stream",
       "stream": "stdout",
       "text": [
        "     pcost       dcost       gap    pres   dres   k/t\n",
        " 0:  7.0266e-02  1.9572e+01  7e+00  2e-01  3e+02  1e+00\n",
        " 1:  8.4166e-02  2.2329e+00  6e-01  2e-02  4e+01  7e-03\n",
        " 2:  7.5617e-02  3.0064e-01  2e-02  2e-03  4e+00  5e-03\n",
        " 3:  7.0951e-02  9.0926e-02  1e-03  2e-04  4e-01  4e-04\n",
        " 4:  7.0551e-02  7.1325e-02  5e-05  7e-06  1e-02  9e-06\n",
        " 5:  7.0511e-02  7.0519e-02  5e-07  7e-08  1e-04  9e-08\n",
        " 6:  7.0511e-02  7.0511e-02  5e-09  7e-10  1e-06  9e-10\n",
        " 7:  7.0511e-02  7.0511e-02  5e-11  7e-12  1e-08  9e-12\n",
        "Optimal solution found.\n"
       ]
      }
     ],
     "prompt_number": 71
    },
    {
     "cell_type": "code",
     "collapsed": false,
     "input": [
      "print \"Price: $%.2f\"%(lp.objective.value()[0])\n",
      "print \"Carrot(g) = %.2f\"%(x1.value[0]*1000)\n",
      "print \"White Cabbage(g) = %.2f\"%(x2.value[0]*1000)\n",
      "print \"Cucumber(g) = %.2f\"%(x3.value[0]*1000)"
     ],
     "language": "python",
     "metadata": {},
     "outputs": [
      {
       "output_type": "stream",
       "stream": "stdout",
       "text": [
        "Price: $0.07\n",
        "Carrot(g) = 9.53\n",
        "White Cabbage(g) = 38.27\n",
        "Cucumber(g) = 294.89\n"
       ]
      }
     ],
     "prompt_number": 77
    },
    {
     "cell_type": "code",
     "collapsed": false,
     "input": [],
     "language": "python",
     "metadata": {},
     "outputs": []
    }
   ],
   "metadata": {}
  }
 ]
}